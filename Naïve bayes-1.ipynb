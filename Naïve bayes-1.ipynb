{
 "cells": [
  {
   "cell_type": "markdown",
   "metadata": {},
   "source": [
    "Q1. What is Bayes' theorem?"
   ]
  },
  {
   "cell_type": "markdown",
   "metadata": {},
   "source": [
    "ANS = Bayes' theorem is a fundamental theorem in probability theory that describes how to update the probability of a hypothesis based on evidence."
   ]
  },
  {
   "cell_type": "markdown",
   "metadata": {},
   "source": [
    "Q2. What is the formula for Bayes' theorem ?"
   ]
  },
  {
   "cell_type": "markdown",
   "metadata": {},
   "source": [
    "The formula for Bayes' theorem is:\n",
    "\n",
    "P(A∣B)= \n",
    "P(B)\n",
    "P(B∣A)⋅P(A)\n",
    "​\n",
    " \n",
    "where \n",
    "\n",
    "P(A∣B) is the probability of event A given event B, \n",
    "\n",
    "P(B∣A) is the probability of event B given event A, \n",
    "\n",
    "P(A) is the prior probability of event A, and \n",
    "\n",
    "P(B) is the prior probability of event B.\n",
    "\n"
   ]
  },
  {
   "cell_type": "markdown",
   "metadata": {},
   "source": [
    "Q3. How is Bayes' theorem used in practice?"
   ]
  },
  {
   "cell_type": "markdown",
   "metadata": {},
   "source": [
    "ANS =  Bayes' theorem is used in practice for tasks such as classification, spam filtering, medical diagnosis, and machine learning. It provides a principled way to update beliefs or predictions based on new evidence."
   ]
  },
  {
   "cell_type": "markdown",
   "metadata": {},
   "source": [
    "Q4. What is the relationship between Bayes' theorem and conditional probability?"
   ]
  },
  {
   "cell_type": "markdown",
   "metadata": {},
   "source": [
    "ANS = . Bayes' theorem relates conditional probability to prior probabilities. It provides a framework for calculating the probability of an event given some observed evidence."
   ]
  },
  {
   "cell_type": "markdown",
   "metadata": {},
   "source": [
    " Q5.  How do you choose which type of Naive Bayes classifier to use for any given problem"
   ]
  },
  {
   "cell_type": "markdown",
   "metadata": {},
   "source": [
    "ANS  = The choice of which type of Naive Bayes classifier to use depends on the distribution of the features and the assumptions made about their independence. For example, Gaussian Naive Bayes assumes that features follow a Gaussian distribution, while Multinomial Naive Bayes is suitable for discrete features, and Bernoulli Naive Bayes is used for binary features."
   ]
  },
  {
   "cell_type": "markdown",
   "metadata": {},
   "source": [
    "Q6. Assignment:\n",
    "You have a dataset with two features, X1 and X2, and two possible classes, A and B. You want to use Naive \n",
    "Bayes to classify a new instance with features X1 = 3 and X2 = 4. The following table shows the frequency of \n",
    "each feature value for each class:\n",
    "\n",
    "Class\t X1=1 X1=2 \tX1=3 \tX2=1 \tX2=2 \tX2=3\t X2=4\n",
    "\n",
    " A\t 3\t 3\t 4\t 4\t 3\t 3\t 3\n",
    "\n",
    " B\t 2\t 2\t 1\t 2\t 2\t 2\t 3\n",
    "\n",
    "Assuming equal prior probabilities for each class, which class would Naive Bayes predict the new instance \n",
    "to belong to?"
   ]
  },
  {
   "cell_type": "markdown",
   "metadata": {},
   "source": [
    "ANS = To predict the class for the new instance with features X1 = 3 and X2 = 4 using Naive Bayes, we calculate the posterior probabilities for each class given the evidence and choose the class with the highest posterior probability. In this case, we would calculate the posterior probabilities for classes A and B using the given frequencies and assuming equal prior probabilities, then select the class with the higher posterior probability."
   ]
  }
 ],
 "metadata": {
  "language_info": {
   "name": "python"
  }
 },
 "nbformat": 4,
 "nbformat_minor": 2
}
